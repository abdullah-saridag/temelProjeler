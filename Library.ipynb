{
  "nbformat": 4,
  "nbformat_minor": 0,
  "metadata": {
    "colab": {
      "provenance": [],
      "authorship_tag": "ABX9TyO+CejxX5c1ZwZEKn7ZX6dM",
      "include_colab_link": true
    },
    "kernelspec": {
      "name": "python3",
      "display_name": "Python 3"
    },
    "language_info": {
      "name": "python"
    }
  },
  "cells": [
    {
      "cell_type": "markdown",
      "metadata": {
        "id": "view-in-github",
        "colab_type": "text"
      },
      "source": [
        "<a href=\"https://colab.research.google.com/github/abdullah-saridag/temelProjeler/blob/master/Library.ipynb\" target=\"_parent\"><img src=\"https://colab.research.google.com/assets/colab-badge.svg\" alt=\"Open In Colab\"/></a>"
      ]
    },
    {
      "cell_type": "code",
      "source": [
        "class Library:\n",
        "  def __init__(self):\n",
        "    self.books = open(\"books.txt\",\"a+\")\n",
        "\n",
        "  def __del__(self):\n",
        "    self.books.close()\n",
        "\n",
        "  def List_Books(self):\n",
        "   self.books.seek(0)\n",
        "   kitap_bilgisi = self.books.read().splitlines()\n",
        "   for kitap in kitap_bilgisi:\n",
        "       kitap_adı,kitap_yazarı,yayın_tarihi,sayfa_sayısı = kitap.split(\",\")\n",
        "       print(f\"Kitap adı: {kitap_adı}, Kitap Yazarı: {kitap_yazarı},Yayın tarihi: {yayın_tarihi}, Sayfa sayısı: {sayfa_sayısı}\")\n",
        "   if not kitap_bilgisi:\n",
        "      print(\"Listelenecek kitap bulunmamaktadır.\")\n",
        "\n",
        "\n",
        "  def Add_Book (self):\n",
        "    self.books.seek(0)\n",
        "    kitap_adı = input(\"Kitap adı giriniz: \")\n",
        "    kitap_yazarı = input(\"Kitap yazarı giriniz: \")\n",
        "    yayın_tarihi = input(\"Yayın tarihi giriniz: \")\n",
        "    sayfa_sayısı = input(\"Sayfa sayısı giriniz: \")\n",
        "    kitap_bilgisi = f\"{kitap_adı},{kitap_yazarı},{yayın_tarihi},{sayfa_sayısı}\\n\"\n",
        "    self.books.write(kitap_bilgisi)\n",
        "    print(\"Kitap başarı ile eklenmiştir.\")\n",
        "\n",
        "  def Delete_Book(self):\n",
        "      silinecek_kitap_adi = input(\"Silmek istediğiniz kitabın adını girin: \")\n",
        "      self.books.seek(0)\n",
        "      kitaplar_bilgisi = self.books.read().splitlines()\n",
        "\n",
        "      guncellenmis_kitaplar = []\n",
        "      for kitap_bilgisi in kitaplar_bilgisi:\n",
        "          if silinecek_kitap_adi not in kitap_bilgisi:\n",
        "              guncellenmis_kitaplar.append(kitap_bilgisi)\n",
        "\n",
        "\n",
        "      with open(\"books.txt\", \"w\") as f:\n",
        "          f.writelines(guncellenmis_kitaplar)\n",
        "      print(\"Kitap başarı ile silinmiştir.\")\n",
        "lib=Library()\n",
        "while True:\n",
        " print(\"\\n*** MENÜ ***\")\n",
        " print(\"1) Kitapları Listele\")\n",
        " print(\"2) Kitap Ekle\")\n",
        " print(\"3) Kitap Sil\")\n",
        " print(\"4) Çıkış\")\n",
        " kullanıcı_girişi = input(\"Lütfen seçim yapınız: \")\n",
        " if kullanıcı_girişi == \"1\":\n",
        "  lib.List_Books()\n",
        " elif kullanıcı_girişi ==\"2\":\n",
        "  lib.Add_Book()\n",
        " elif kullanıcı_girişi == \"3\":\n",
        "  lib.Delete_Book()\n",
        " elif kullanıcı_girişi == \"4\":\n",
        "  print(\"Programdan çıkış yapılıyor iyi günler\")\n",
        "  break\n",
        " else :\n",
        "  print(\"Geçersiz giriş Lütfen 1-4 arası seçim yapınız\")\n",
        "\n"
      ],
      "metadata": {
        "id": "HCnQ4jXjt72E",
        "colab": {
          "base_uri": "https://localhost:8080/"
        },
        "outputId": "c5c55701-6bfb-4874-a703-70a70545ae0c"
      },
      "execution_count": 21,
      "outputs": [
        {
          "output_type": "stream",
          "name": "stdout",
          "text": [
            "\n",
            "*** MENÜ ***\n",
            "1) Kitapları Listele\n",
            "2) Kitap Ekle\n",
            "3) Kitap Sil\n",
            "4) Çıkış\n",
            "Lütfen seçim yapınız: 4\n",
            "Programdan çıkış yapılıyor iyi günler\n"
          ]
        }
      ]
    }
  ]
}